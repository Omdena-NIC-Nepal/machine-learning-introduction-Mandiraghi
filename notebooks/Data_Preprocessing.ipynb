{
 "cells": [
  {
   "cell_type": "markdown",
   "metadata": {},
   "source": [
    "# Data Preprocessing "
   ]
  },
  {
   "cell_type": "code",
   "execution_count": 1,
   "metadata": {},
   "outputs": [],
   "source": [
    "# Load Libraries \n",
    "import pandas as pd \n",
    "import numpy as np \n",
    "from sklearn.preprocessing import StandardScaler\n",
    "from sklearn.model_selection import train_test_split\n",
    "from sklearn.impute import SimpleImputer\n",
    "from sklearn.compose import ColumnTransformer"
   ]
  },
  {
   "cell_type": "code",
   "execution_count": 3,
   "metadata": {},
   "outputs": [],
   "source": [
    "#Load Datasets \n",
    "boston_housing = pd.read_csv(\"/Users/mandiraghimire/Desktop/MghiGitManu/machine-learning-introduction-Mandiraghi/data/BostonHousing.csv\")"
   ]
  },
  {
   "cell_type": "code",
   "execution_count": 4,
   "metadata": {},
   "outputs": [
    {
     "name": "stdout",
     "output_type": "stream",
     "text": [
      "Boston Housing Missing VALUES:  \n",
      "crim       0\n",
      "zn         0\n",
      "indus      0\n",
      "chas       0\n",
      "nox        0\n",
      "rm         0\n",
      "age        0\n",
      "dis        0\n",
      "rad        0\n",
      "tax        0\n",
      "ptratio    0\n",
      "b          0\n",
      "lstat      0\n",
      "medv       0\n",
      "dtype: int64\n"
     ]
    }
   ],
   "source": [
    "# Handle missing values\n",
    "print(\"Boston Housing Missing VALUES:  \")\n",
    "print( boston_housing.isnull().sum())"
   ]
  },
  {
   "cell_type": "code",
   "execution_count": 5,
   "metadata": {},
   "outputs": [
    {
     "name": "stdout",
     "output_type": "stream",
     "text": [
      "Outliers removed\n"
     ]
    }
   ],
   "source": [
    "# Handle outliers\n",
    "def remove_outliers_iqr(boston_housing, column):\n",
    "    Q1 = boston_housing[column].quantile(0.25)\n",
    "    Q3 = boston_housing[column].quantile(0.75)\n",
    "    IQR = Q3 - Q1 \n",
    "    lower = Q1 - 1.5 * IQR \n",
    "    upper = Q3 + 1.5 * IQR\n",
    "    return boston_housing[(boston_housing[column] >= lower) & (boston_housing[column] <= upper)]\n",
    "\n",
    "for col in boston_housing.columns: \n",
    "    boston_housing = remove_outliers_iqr(boston_housing , col)\n",
    "\n",
    "print(\"Outliers removed\")"
   ]
  },
  {
   "cell_type": "code",
   "execution_count": 6,
   "metadata": {},
   "outputs": [
    {
     "name": "stdout",
     "output_type": "stream",
     "text": [
      "Categorical encoding done\n"
     ]
    }
   ],
   "source": [
    "#Encoding CATEGORICAL Variables \n",
    "boston_housing['chas'] = boston_housing['chas'].astype('category')\n",
    "boston_housing = pd.get_dummies(boston_housing, columns = ['chas'], drop_first = True)\n",
    "\n",
    "print (\"Categorical encoding done\")\n"
   ]
  },
  {
   "cell_type": "markdown",
   "metadata": {},
   "source": [
    "## Standardize numerical features - Train / Test Split "
   ]
  },
  {
   "cell_type": "code",
   "execution_count": 7,
   "metadata": {},
   "outputs": [],
   "source": [
    "# Define features and target Variables \n",
    "X = boston_housing.drop('medv', axis = 1)\n",
    "y= boston_housing['medv']"
   ]
  },
  {
   "cell_type": "code",
   "execution_count": 10,
   "metadata": {},
   "outputs": [
    {
     "name": "stdout",
     "output_type": "stream",
     "text": [
      "features Scaled\n"
     ]
    }
   ],
   "source": [
    "# Standardize numerical features \n",
    "scaler = StandardScaler()\n",
    "X_scaled = pd.DataFrame(scaler.fit_transform(X), columns = X.columns)\n",
    "\n",
    "print(\"features Scaled\")\n"
   ]
  },
  {
   "cell_type": "code",
   "execution_count": 9,
   "metadata": {},
   "outputs": [],
   "source": [
    "# Split adatasets \n",
    "X_train, X_test, y_train, y_test = train_test_split(\n",
    "    X_scaled, y, test_size = 0.2, random_state = 42\n",
    ")"
   ]
  },
  {
   "cell_type": "code",
   "execution_count": 11,
   "metadata": {},
   "outputs": [
    {
     "name": "stdout",
     "output_type": "stream",
     "text": [
      "X_train shape:\n",
      "(171, 12)\n",
      "X_test shape:\n",
      "(43, 12)\n"
     ]
    }
   ],
   "source": [
    "print (\"X_train shape:\")\n",
    "print(X_train.shape)\n",
    "print (\"X_test shape:\")\n",
    "print(X_test.shape)"
   ]
  },
  {
   "cell_type": "code",
   "execution_count": 13,
   "metadata": {},
   "outputs": [],
   "source": [
    "# Save Train and test data to CSV\n",
    "X_train.to_csv(\"/Users/mandiraghimire/Desktop/MghiGitManu/machine-learning-introduction-Mandiraghi/data/X_train.csv\", index=False)\n",
    "X_test.to_csv(\"/Users/mandiraghimire/Desktop/MghiGitManu/machine-learning-introduction-Mandiraghi/data/X_test.csv\", index=False)\n",
    "y_train.to_csv(\"/Users/mandiraghimire/Desktop/MghiGitManu/machine-learning-introduction-Mandiraghi/data/y_train.csv\", index=False)\n",
    "y_test.to_csv(\"/Users/mandiraghimire/Desktop/MghiGitManu/machine-learning-introduction-Mandiraghi/data/y_test.csv\", index=False)\n"
   ]
  }
 ],
 "metadata": {
  "kernelspec": {
   "display_name": "airish_env",
   "language": "python",
   "name": "python3"
  },
  "language_info": {
   "codemirror_mode": {
    "name": "ipython",
    "version": 3
   },
   "file_extension": ".py",
   "mimetype": "text/x-python",
   "name": "python",
   "nbconvert_exporter": "python",
   "pygments_lexer": "ipython3",
   "version": "3.9.22"
  }
 },
 "nbformat": 4,
 "nbformat_minor": 2
}
